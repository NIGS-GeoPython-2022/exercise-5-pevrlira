{
 "cells": [
  {
   "cell_type": "markdown",
   "metadata": {
    "deletable": false,
    "editable": false,
    "nbgrader": {
     "cell_type": "markdown",
     "checksum": "2190fdba31b6f247358b0af31bbe343e",
     "grade": false,
     "grade_id": "Intro_text",
     "locked": true,
     "schema_version": 3,
     "solution": false
    },
    "tags": []
   },
   "source": [
    "## Problem 3 - Data analysis (4 points)\n",
    "\n",
    "In this problem we will explore our temperature data by comparing spring temperatures between Helsinki Kumpula and Rovaniemi. To do this we'll use some conditions to extract subsets of our data and then analyse these subsets using basic pandas functions. Please perform the tasks below by writing your code into the codeblocks in each section.\n",
    "\n",
    "### Tips for completing this problem\n",
    "\n",
    "- Use **exactly** the same variable names as in the instructions.\n",
    "- **Please do not**:\n",
    "\n",
    "    - **Change the file names**. Do all of your editing in the provided `Exercise-5-problem-3.ipynb` file (this file).\n",
    "    - **Change the existing cell types**. You can add cells, but changing the cell types for existing cells (from code to markdown, for example) will also cause the automated grader to fail. \n",
    "\n",
    "### Scores for this problem\n",
    "\n",
    "**Your score on this problem will be based on following criteria:**\n",
    "\n",
    "- Calculating the median temperatures for Mactan and Hinatuan for March-May of 2018\n",
    "- Selecting temperatures for April and December 2018 in separate dataframes for each location\n",
    "- Printing out some summary values for each month (April, December) and location (Mactan, Hinatuan)\n",
    "- Including comments that explain what most lines in the code do\n",
    "- Answering a couple questions at the end of the problem\n",
    "- Uploading your notebook and data files to your GitHub repository for this week's exercise"
   ]
  },
  {
   "cell_type": "markdown",
   "metadata": {
    "deletable": false,
    "editable": false,
    "nbgrader": {
     "cell_type": "markdown",
     "checksum": "1b6ab534a2cd475117b7d0016c7cf9f3",
     "grade": false,
     "grade_id": "cell-33c2d0518738c711",
     "locked": true,
     "schema_version": 3,
     "solution": false,
     "task": false
    },
    "tags": []
   },
   "source": [
    "### Part 1 (0 points)\n",
    "\n",
    "First, you need to load the data from Problem 2.\n",
    "\n",
    "- Read in the csv files generated in Problem 2 to the variables `mactan` and `hinatuan`"
   ]
  },
  {
   "cell_type": "code",
   "execution_count": 6,
   "metadata": {
    "deletable": false,
    "nbgrader": {
     "cell_type": "code",
     "checksum": "deb603f4e6e03059689d01f3d8ca3044",
     "grade": false,
     "grade_id": "problem_3_ag_p1_read_data",
     "locked": false,
     "schema_version": 3,
     "solution": true
    }
   },
   "outputs": [],
   "source": [
    "import pandas as pd\n",
    "mactan = pd.read_csv(\"Mactan_temps_2019-01_2020-12.csv\")\n",
    "hinatuan = pd.read_csv(\"Rovaniemi_temps_2019-01_2020-12.csv\")\n",
    "\n",
    "#reads the new csv files separately, and assigns to the new varibales for this console"
   ]
  },
  {
   "cell_type": "code",
   "execution_count": 7,
   "metadata": {},
   "outputs": [
    {
     "name": "stdout",
     "output_type": "stream",
     "text": [
      "       STATION                           NAME  LATITUDE  LONGITUDE  ELEVATION  \\\n",
      "0  RPM00098646  MACTAN CEBU INTERNATIONAL, RP     10.31     123.98        9.4   \n",
      "1  RPM00098646  MACTAN CEBU INTERNATIONAL, RP     10.31     123.98        9.4   \n",
      "2  RPM00098646  MACTAN CEBU INTERNATIONAL, RP     10.31     123.98        9.4   \n",
      "3  RPM00098646  MACTAN CEBU INTERNATIONAL, RP     10.31     123.98        9.4   \n",
      "4  RPM00098646  MACTAN CEBU INTERNATIONAL, RP     10.31     123.98        9.4   \n",
      "\n",
      "         DATE   TEMP    MAX    MIN  CELSIUS  \n",
      "0  2017-01-03  82.40  88.52  76.64     28.0  \n",
      "1  2017-01-05  81.32  88.52  77.00     27.4  \n",
      "2  2017-01-07  79.88  84.56  76.10     26.6  \n",
      "3  2017-01-08  77.90  79.16  76.28     25.5  \n",
      "4  2017-01-09  78.98  83.30  75.92     26.1  \n",
      "\n",
      "       STATION          NAME  LATITUDE  LONGITUDE  ELEVATION        DATE  \\\n",
      "0  RP000098755  HINATUAN, RP      8.37     126.33        3.0  2017-01-01   \n",
      "1  RP000098755  HINATUAN, RP      8.37     126.33        3.0  2017-01-02   \n",
      "2  RP000098755  HINATUAN, RP      8.37     126.33        3.0  2017-01-04   \n",
      "3  RP000098755  HINATUAN, RP      8.37     126.33        3.0  2017-01-08   \n",
      "4  RP000098755  HINATUAN, RP      8.37     126.33        3.0  2017-01-09   \n",
      "\n",
      "    TEMP    MAX    MIN  CELSIUS  \n",
      "0  80.06  84.20  75.20     26.7  \n",
      "1  80.78  85.64  75.92     27.1  \n",
      "2  80.60  86.36  75.38     27.0  \n",
      "3  77.18  81.86  73.40     25.1  \n",
      "4  80.60  85.64  74.12     27.0  \n"
     ]
    }
   ],
   "source": [
    "print(mactan.head())\n",
    "print('')\n",
    "print(hinatuan.head())"
   ]
  },
  {
   "cell_type": "markdown",
   "metadata": {
    "deletable": false,
    "editable": false,
    "nbgrader": {
     "cell_type": "markdown",
     "checksum": "b74443c30f8df10c1f56cbf265d62a41",
     "grade": false,
     "grade_id": "cell-c25a29efbcf77ee7",
     "locked": true,
     "schema_version": 3,
     "solution": false,
     "task": false
    },
    "tags": []
   },
   "source": [
    "### Part 2 (1 points)\n",
    "\n",
    "Next you can find some median temperature values for the period the data covers.\n",
    "\n",
    "- What was the median Celsius temperature during the observed period in:\n",
    "    - Mactan, Cebu? (store the answer in a variable `mactan_median`)\n",
    "    - Hinatuan, Surigao del Sur? (store the answer in a variable `hinatuan_median`)"
   ]
  },
  {
   "cell_type": "code",
   "execution_count": 10,
   "metadata": {
    "deletable": false,
    "nbgrader": {
     "cell_type": "code",
     "checksum": "975856c4e5d377c3aaabec3af0fe53da",
     "grade": false,
     "grade_id": "problem_3_ag_p2_median",
     "locked": false,
     "schema_version": 3,
     "solution": true
    }
   },
   "outputs": [],
   "source": [
    "mactan_median = mactan[\"CELSIUS\"].median() #.median() another function from pandas\n",
    "hinatuan_median = hinatuan[\"CELSIUS\"].median() \n"
   ]
  },
  {
   "cell_type": "code",
   "execution_count": 11,
   "metadata": {
    "deletable": false,
    "editable": false,
    "nbgrader": {
     "cell_type": "code",
     "checksum": "c74731bd13e85d92c4c9c1b77dabc589",
     "grade": true,
     "grade_id": "problem_3_ag_p2_median_test",
     "locked": true,
     "points": 1,
     "schema_version": 3,
     "solution": false
    },
    "tags": []
   },
   "outputs": [
    {
     "name": "stdout",
     "output_type": "stream",
     "text": [
      "Mactan median: 28.3\n",
      "Hinatuan median: 27.5\n"
     ]
    }
   ],
   "source": [
    "# Prints the median temperatures\n",
    "print(f\"Mactan median: {mactan_median}\")\n",
    "print(f\"Hinatuan median: {hinatuan_median}\")\n"
   ]
  },
  {
   "cell_type": "markdown",
   "metadata": {
    "deletable": false,
    "editable": false,
    "nbgrader": {
     "cell_type": "markdown",
     "checksum": "177502bb4ee7abc753b57a16250f3c15",
     "grade": false,
     "grade_id": "cell-6eda08b036b421d9",
     "locked": true,
     "schema_version": 3,
     "solution": false,
     "task": false
    },
    "tags": []
   },
   "source": [
    "### Part 3 (2 points)\n",
    "\n",
    "The median temperatures above consider data from the entire \"summer\" (Mar-May), hence the differences might not be so clear. Let's now find out the mean temperatures from March and May 2018 in Mactan and Hinatuan.\n",
    "\n",
    "- From the `mactan` and `hinatuan` DataFrames, select the rows where values of the `DATE` column are from March 2018\n",
    "    - Assign these selected rows into the variables `mactan_mar` and `hinatuan_mar` (you can check the [hints](https://geo-python.github.io/site/lessons/L5/exercise-5.html) for help!)\n",
    "- Repeat the procedure for the month of May and assign those values into variables to `mactan_may` and `hinatuan_may`"
   ]
  },
  {
   "cell_type": "code",
   "execution_count": 15,
   "metadata": {
    "deletable": false,
    "nbgrader": {
     "cell_type": "code",
     "checksum": "e658e48c072ada99e4541860ebaf0095",
     "grade": false,
     "grade_id": "problem_3_ag_p3_may",
     "locked": false,
     "schema_version": 3,
     "solution": true
    },
    "tags": []
   },
   "outputs": [],
   "source": [
    "# Select the subset of the Mactan and Hinatuan data for the 3rd and 5th month\n",
    "mactan_mar = mactan.loc[(mactan[\"DATE\"] >= '2018-03-01') & (mactan[\"DATE\"] <= '2018-03-31')]\n",
    "hinatuan_mar = hinatuan.loc[(hinatuan[\"DATE\"] >= '2018-03-01') & (hinatuan[\"DATE\"] <= '2018-03-31')]\n",
    "\n",
    "mactan_may = mactan.loc[(mactan[\"DATE\"] >= '2018-05-01') & (mactan[\"DATE\"] <= '2018-05-31')]\n",
    "hinatuan_may = hinatuan.loc[(hinatuan[\"DATE\"] >= '2018-05-01') & (hinatuan[\"DATE\"] <= '2018-05-31')] \n"
   ]
  },
  {
   "cell_type": "markdown",
   "metadata": {
    "deletable": false,
    "editable": false,
    "nbgrader": {
     "cell_type": "markdown",
     "checksum": "ced113a7a44f6c3bc88de58a3dc62056",
     "grade": false,
     "grade_id": "cell-c20a16ae3d1442cb",
     "locked": true,
     "schema_version": 3,
     "solution": false,
     "task": false
    }
   },
   "source": [
    "Check that the subsets look ok:"
   ]
  },
  {
   "cell_type": "code",
   "execution_count": 16,
   "metadata": {
    "deletable": false,
    "editable": false,
    "nbgrader": {
     "cell_type": "code",
     "checksum": "2b46b5ac73b0c1ecdec568ab8da5f07d",
     "grade": true,
     "grade_id": "problem_3_ag_p3_Kumpula_may_test",
     "locked": true,
     "points": 0.5,
     "schema_version": 3,
     "solution": false
    },
    "tags": []
   },
   "outputs": [
    {
     "name": "stdout",
     "output_type": "stream",
     "text": [
      "First values in March, Mactan:\n",
      "         STATION                           NAME  LATITUDE  LONGITUDE  \\\n",
      "208  RPM00098646  MACTAN CEBU INTERNATIONAL, RP     10.31     123.98   \n",
      "209  RPM00098646  MACTAN CEBU INTERNATIONAL, RP     10.31     123.98   \n",
      "210  RPM00098646  MACTAN CEBU INTERNATIONAL, RP     10.31     123.98   \n",
      "211  RPM00098646  MACTAN CEBU INTERNATIONAL, RP     10.31     123.98   \n",
      "212  RPM00098646  MACTAN CEBU INTERNATIONAL, RP     10.31     123.98   \n",
      "\n",
      "     ELEVATION        DATE   TEMP    MAX    MIN  CELSIUS  \n",
      "208        9.4  2018-03-02  82.40  88.88  76.28     28.0  \n",
      "209        9.4  2018-03-03  83.12  89.96  76.64     28.4  \n",
      "210        9.4  2018-03-05  82.76  89.60  75.92     28.2  \n",
      "211        9.4  2018-03-06  83.48  90.32  76.46     28.6  \n",
      "212        9.4  2018-03-12  78.62  82.94  74.66     25.9  \n",
      "\n",
      "Last values in March, Mactan:\n",
      "         STATION                           NAME  LATITUDE  LONGITUDE  \\\n",
      "217  RPM00098646  MACTAN CEBU INTERNATIONAL, RP     10.31     123.98   \n",
      "218  RPM00098646  MACTAN CEBU INTERNATIONAL, RP     10.31     123.98   \n",
      "219  RPM00098646  MACTAN CEBU INTERNATIONAL, RP     10.31     123.98   \n",
      "220  RPM00098646  MACTAN CEBU INTERNATIONAL, RP     10.31     123.98   \n",
      "221  RPM00098646  MACTAN CEBU INTERNATIONAL, RP     10.31     123.98   \n",
      "\n",
      "     ELEVATION        DATE   TEMP    MAX    MIN  CELSIUS  \n",
      "217        9.4  2018-03-23  82.58  88.88  75.56     28.1  \n",
      "218        9.4  2018-03-24  82.22  89.06  78.26     27.9  \n",
      "219        9.4  2018-03-28  81.68  88.70  73.76     27.6  \n",
      "220        9.4  2018-03-30  81.32  87.80  74.48     27.4  \n",
      "221        9.4  2018-03-31  82.40  89.60  76.64     28.0  \n"
     ]
    }
   ],
   "source": [
    "print(f\"First values in March, Mactan:\\n{mactan_mar.head()}\\n\")\n",
    "print(f\"Last values in March, Mactan:\\n{mactan_mar.tail()}\")"
   ]
  },
  {
   "cell_type": "code",
   "execution_count": 17,
   "metadata": {
    "deletable": false,
    "editable": false,
    "nbgrader": {
     "cell_type": "code",
     "checksum": "e4d83fa396f745a05cfd902c4107fc23",
     "grade": true,
     "grade_id": "problem_3_ag_p3_Kumpula_june_test",
     "locked": true,
     "points": 0.5,
     "schema_version": 3,
     "solution": false,
     "task": false
    },
    "tags": []
   },
   "outputs": [
    {
     "name": "stdout",
     "output_type": "stream",
     "text": [
      "First values in May, Mactan:\n",
      "         STATION                           NAME  LATITUDE  LONGITUDE  \\\n",
      "239  RPM00098646  MACTAN CEBU INTERNATIONAL, RP     10.31     123.98   \n",
      "240  RPM00098646  MACTAN CEBU INTERNATIONAL, RP     10.31     123.98   \n",
      "241  RPM00098646  MACTAN CEBU INTERNATIONAL, RP     10.31     123.98   \n",
      "242  RPM00098646  MACTAN CEBU INTERNATIONAL, RP     10.31     123.98   \n",
      "243  RPM00098646  MACTAN CEBU INTERNATIONAL, RP     10.31     123.98   \n",
      "\n",
      "     ELEVATION        DATE   TEMP    MAX    MIN  CELSIUS  \n",
      "239        9.4  2018-05-01  86.18  91.76  79.52     30.1  \n",
      "240        9.4  2018-05-05  83.66  90.50  75.56     28.7  \n",
      "241        9.4  2018-05-06  84.92  91.40  78.62     29.4  \n",
      "242        9.4  2018-05-08  84.02  92.48  76.64     28.9  \n",
      "243        9.4  2018-05-09  84.74  91.40  77.54     29.3  \n",
      "\n",
      "Last values in May, Mactan:\n",
      "         STATION                           NAME  LATITUDE  LONGITUDE  \\\n",
      "253  RPM00098646  MACTAN CEBU INTERNATIONAL, RP     10.31     123.98   \n",
      "254  RPM00098646  MACTAN CEBU INTERNATIONAL, RP     10.31     123.98   \n",
      "255  RPM00098646  MACTAN CEBU INTERNATIONAL, RP     10.31     123.98   \n",
      "256  RPM00098646  MACTAN CEBU INTERNATIONAL, RP     10.31     123.98   \n",
      "257  RPM00098646  MACTAN CEBU INTERNATIONAL, RP     10.31     123.98   \n",
      "\n",
      "     ELEVATION        DATE   TEMP    MAX    MIN  CELSIUS  \n",
      "253        9.4  2018-05-23  85.64  92.66  80.06     29.8  \n",
      "254        9.4  2018-05-24  86.72  91.94  79.70     30.4  \n",
      "255        9.4  2018-05-26  86.36  93.20  78.26     30.2  \n",
      "256        9.4  2018-05-27  87.08  92.30  80.60     30.6  \n",
      "257        9.4  2018-05-28  86.72  93.02  81.32     30.4  \n"
     ]
    }
   ],
   "source": [
    "print(f\"First values in May, Mactan:\\n{mactan_may.head()}\\n\")\n",
    "print(f\"Last values in May, Mactan:\\n{mactan_may.tail()}\")"
   ]
  },
  {
   "cell_type": "code",
   "execution_count": 18,
   "metadata": {
    "deletable": false,
    "editable": false,
    "nbgrader": {
     "cell_type": "code",
     "checksum": "227099ba97029cbeb597834860f637b2",
     "grade": true,
     "grade_id": "problem_3_ag_p3_Rovaniemi_may_test",
     "locked": true,
     "points": 0.5,
     "schema_version": 3,
     "solution": false
    },
    "tags": []
   },
   "outputs": [
    {
     "name": "stdout",
     "output_type": "stream",
     "text": [
      "First values in March, Hinatuan:\n",
      "         STATION          NAME  LATITUDE  LONGITUDE  ELEVATION        DATE  \\\n",
      "263  RP000098755  HINATUAN, RP      8.37     126.33        3.0  2018-03-01   \n",
      "264  RP000098755  HINATUAN, RP      8.37     126.33        3.0  2018-03-04   \n",
      "265  RP000098755  HINATUAN, RP      8.37     126.33        3.0  2018-03-05   \n",
      "266  RP000098755  HINATUAN, RP      8.37     126.33        3.0  2018-03-06   \n",
      "267  RP000098755  HINATUAN, RP      8.37     126.33        3.0  2018-03-07   \n",
      "\n",
      "      TEMP    MAX    MIN  CELSIUS  \n",
      "263  80.60  85.28  75.38     27.0  \n",
      "264  78.98  86.18  73.22     26.1  \n",
      "265  81.50  87.44  73.40     27.5  \n",
      "266  79.88  86.36  73.76     26.6  \n",
      "267  80.42  86.36  74.66     26.9  \n",
      "\n",
      "Last values in March, Hinatuan:\n",
      "         STATION          NAME  LATITUDE  LONGITUDE  ELEVATION        DATE  \\\n",
      "276  RP000098755  HINATUAN, RP      8.37     126.33        3.0  2018-03-23   \n",
      "277  RP000098755  HINATUAN, RP      8.37     126.33        3.0  2018-03-25   \n",
      "278  RP000098755  HINATUAN, RP      8.37     126.33        3.0  2018-03-28   \n",
      "279  RP000098755  HINATUAN, RP      8.37     126.33        3.0  2018-03-29   \n",
      "280  RP000098755  HINATUAN, RP      8.37     126.33        3.0  2018-03-30   \n",
      "\n",
      "      TEMP    MAX    MIN  CELSIUS  \n",
      "276  78.44  85.64  73.04     25.8  \n",
      "277  80.96  87.98  74.48     27.2  \n",
      "278  82.04  92.30  68.72     27.8  \n",
      "279  81.32  89.60  74.12     27.4  \n",
      "280  81.32  90.50  72.50     27.4  \n"
     ]
    }
   ],
   "source": [
    "print(f\"First values in March, Hinatuan:\\n{hinatuan_mar.head()}\\n\")\n",
    "print(f\"Last values in March, Hinatuan:\\n{hinatuan_mar.tail()}\")"
   ]
  },
  {
   "cell_type": "code",
   "execution_count": 19,
   "metadata": {
    "deletable": false,
    "editable": false,
    "nbgrader": {
     "cell_type": "code",
     "checksum": "b1479509bbe424439169f91d57fa1c54",
     "grade": true,
     "grade_id": "problem_3_ag_p3_Rovaniemi_june_test",
     "locked": true,
     "points": 0.5,
     "schema_version": 3,
     "solution": false,
     "task": false
    },
    "tags": []
   },
   "outputs": [
    {
     "name": "stdout",
     "output_type": "stream",
     "text": [
      "First values in May, Hinatuan:\n",
      "         STATION          NAME  LATITUDE  LONGITUDE  ELEVATION        DATE  \\\n",
      "304  RP000098755  HINATUAN, RP      8.37     126.33        3.0  2018-05-01   \n",
      "305  RP000098755  HINATUAN, RP      8.37     126.33        3.0  2018-05-03   \n",
      "306  RP000098755  HINATUAN, RP      8.37     126.33        3.0  2018-05-04   \n",
      "307  RP000098755  HINATUAN, RP      8.37     126.33        3.0  2018-05-07   \n",
      "308  RP000098755  HINATUAN, RP      8.37     126.33        3.0  2018-05-09   \n",
      "\n",
      "      TEMP    MAX    MIN  CELSIUS  \n",
      "304  82.22  89.24  76.10     27.9  \n",
      "305  81.50  90.86  74.84     27.5  \n",
      "306  81.86  89.96  75.56     27.7  \n",
      "307  82.76  90.50  75.92     28.2  \n",
      "308  82.04  90.32  75.38     27.8  \n",
      "\n",
      "Last values in May, Hinatuan:\n",
      "         STATION          NAME  LATITUDE  LONGITUDE  ELEVATION        DATE  \\\n",
      "320  RP000098755  HINATUAN, RP      8.37     126.33        3.0  2018-05-24   \n",
      "321  RP000098755  HINATUAN, RP      8.37     126.33        3.0  2018-05-26   \n",
      "322  RP000098755  HINATUAN, RP      8.37     126.33        3.0  2018-05-27   \n",
      "323  RP000098755  HINATUAN, RP      8.37     126.33        3.0  2018-05-29   \n",
      "324  RP000098755  HINATUAN, RP      8.37     126.33        3.0  2018-05-31   \n",
      "\n",
      "      TEMP    MAX    MIN  CELSIUS  \n",
      "320  84.20  91.94  77.00     29.0  \n",
      "321  83.30  88.88  75.20     28.5  \n",
      "322  82.94  93.02  77.00     28.3  \n",
      "323  81.68  92.30  74.66     27.6  \n",
      "324  81.68  90.86  72.86     27.6  \n"
     ]
    }
   ],
   "source": [
    "print(f\"First values in May, Hinatuan:\\n{hinatuan_may.head()}\\n\")\n",
    "print(f\"Last values in May, Hinatuan:\\n{hinatuan_may.tail()}\")"
   ]
  },
  {
   "cell_type": "markdown",
   "metadata": {
    "deletable": false,
    "editable": false,
    "nbgrader": {
     "cell_type": "markdown",
     "checksum": "a65a68a4bf3075ccc9de3bb5ce5266c1",
     "grade": false,
     "grade_id": "cell-5d735e872f16ccd5",
     "locked": true,
     "schema_version": 3,
     "solution": false,
     "task": false
    },
    "tags": []
   },
   "source": [
    "### Part 4 (1 point)\n",
    "\n",
    "Now you can make your temperature data from both locations and months easier to compare by printing out a few useful values.\n",
    "\n",
    "- Use the `print()` function to show the mean, min and max Celsius temperatures for both places in March and May using the new subset dataframes (`mactan_mar`, `hinatuan_mar`, `mactan_may`, and `hinatuan_may`)."
   ]
  },
  {
   "cell_type": "code",
   "execution_count": 20,
   "metadata": {
    "deletable": false,
    "nbgrader": {
     "cell_type": "code",
     "checksum": "12a6c95dd173d219530d35b72f81490f",
     "grade": true,
     "grade_id": "problem_3_mg_p4_May_and_June_stats",
     "locked": false,
     "points": 1,
     "schema_version": 3,
     "solution": true
    }
   },
   "outputs": [
    {
     "name": "stdout",
     "output_type": "stream",
     "text": [
      "Mactan March Data \n",
      " Mean: 27.949999999999996 \n",
      "Min: 25.9 \n",
      "Max: 28.9 \n",
      " \n",
      "Mactan May Data \n",
      " Mean: 29.705263157894734 \n",
      "Min: 28.7 \n",
      "Max: 30.7 \n",
      " \n",
      "Hinatuan March Data \n",
      " Mean: 26.855555555555554 \n",
      "Min: 25.8 \n",
      "Max: 28.0 \n",
      " \n",
      "Hinatuan May Data \n",
      " Mean: 28.433333333333334 \n",
      "Min: 27.5 \n",
      "Max: 29.3 \n",
      " \n",
      "\n"
     ]
    }
   ],
   "source": [
    "\n",
    "print(\"Mactan March Data \\n\",\n",
    "        \"Mean:\", mactan_mar[\"CELSIUS\"].mean(), \"\\n\"\n",
    "        \"Min:\", mactan_mar[\"CELSIUS\"].min(), \"\\n\"\n",
    "        \"Max:\", mactan_mar[\"CELSIUS\"].max(), \"\\n \\n\"\n",
    "      \"Mactan May Data \\n\",\n",
    "        \"Mean:\", mactan_may[\"CELSIUS\"].mean(), \"\\n\"\n",
    "        \"Min:\", mactan_may[\"CELSIUS\"].min(), \"\\n\"\n",
    "        \"Max:\", mactan_may[\"CELSIUS\"].max(), \"\\n \\n\"\n",
    "      \"Hinatuan March Data \\n\",\n",
    "        \"Mean:\", hinatuan_mar[\"CELSIUS\"].mean(), \"\\n\"\n",
    "        \"Min:\", hinatuan_mar[\"CELSIUS\"].min(), \"\\n\"\n",
    "        \"Max:\", hinatuan_mar[\"CELSIUS\"].max(), \"\\n \\n\"\n",
    "      \"Hinatuan May Data \\n\",\n",
    "        \"Mean:\", hinatuan_may[\"CELSIUS\"].mean(), \"\\n\"\n",
    "        \"Min:\", hinatuan_may[\"CELSIUS\"].min(), \"\\n\"\n",
    "        \"Max:\", hinatuan_may[\"CELSIUS\"].max(), \"\\n \\n\"\n",
    "      \n",
    "     )\n",
    "        \n",
    "\n",
    "    #simple use the .mean(), .min(), and .max() functions from pandas for this cell"
   ]
  },
  {
   "cell_type": "markdown",
   "metadata": {
    "deletable": false,
    "editable": false,
    "nbgrader": {
     "cell_type": "markdown",
     "checksum": "c19a758e3ace532979854894a73433a0",
     "grade": false,
     "grade_id": "comments",
     "locked": true,
     "schema_version": 3,
     "solution": false
    },
    "tags": []
   },
   "source": [
    "### Problem 3 summary\n",
    "\n",
    "In the spirit of [knowledge discovery](http://researcher.ibm.com/researcher/view_group.php?id=144), let's briefly interpret the results of the data analysis in Problem 3. Please answer the following questions based on the data analysis results from this problem:\n",
    "\n",
    "- Does there seem to be a large difference in temperatures between the months?\n",
    "- Is Hinatuan a much cooler place than Mactan?\n",
    "\n",
    "Also, be sure to:\n",
    "\n",
    "- Check that your code includes informative comments explaining what your code does\n",
    "- Commit and push your changes to your GitHub repository for Exercise 5"
   ]
  },
  {
   "cell_type": "markdown",
   "metadata": {
    "deletable": false,
    "nbgrader": {
     "cell_type": "markdown",
     "checksum": "1f0848d8fe16e12f1951ccdd1b5edf83",
     "grade": true,
     "grade_id": "problem_3_mg_p5_questions",
     "locked": false,
     "points": 0,
     "schema_version": 3,
     "solution": true,
     "task": false
    }
   },
   "source": [
    "ANSWERS TO QUESTION:\n",
    "- Yes there is.\n",
    "- Yes it is relatively cooler than Mactan (which probably could be attributed to elevation, weather differences etc.)"
   ]
  },
  {
   "cell_type": "markdown",
   "metadata": {
    "deletable": false,
    "editable": false,
    "nbgrader": {
     "cell_type": "markdown",
     "checksum": "0e5f52b74f4ffaea57ca77ace2732647",
     "grade": false,
     "grade_id": "text",
     "locked": true,
     "schema_version": 3,
     "solution": false
    }
   },
   "source": [
    "### On to Problem 4 (*optional*)\n",
    "\n",
    "Now you can continue to the *optional* [Problem 4: Data analysis](Exercise-5-problem-4.ipynb)"
   ]
  }
 ],
 "metadata": {
  "anaconda-cloud": {},
  "kernelspec": {
   "display_name": "Python 3 (ipykernel)",
   "language": "python",
   "name": "python3"
  },
  "language_info": {
   "codemirror_mode": {
    "name": "ipython",
    "version": 3
   },
   "file_extension": ".py",
   "mimetype": "text/x-python",
   "name": "python",
   "nbconvert_exporter": "python",
   "pygments_lexer": "ipython3",
   "version": "3.7.12"
  }
 },
 "nbformat": 4,
 "nbformat_minor": 4
}
