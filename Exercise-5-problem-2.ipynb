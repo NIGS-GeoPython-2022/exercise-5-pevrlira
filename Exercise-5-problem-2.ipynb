{
 "cells": [
  {
   "cell_type": "markdown",
   "metadata": {
    "deletable": false,
    "editable": false,
    "nbgrader": {
     "cell_type": "markdown",
     "checksum": "43121daa843bd4cab040df6ac0b3856d",
     "grade": false,
     "grade_id": "cell-0e5a9bb9ec9e7ac9",
     "locked": true,
     "schema_version": 3,
     "solution": false,
     "task": false
    },
    "tags": []
   },
   "source": [
    "## Problem 2 - Data manipulation and selection (4 points)\n",
    "\n",
    "In this problem you will clean the data from our data file by removing no-data values, convert temperature values in Fahrenheit to Celsius, and split the data into separate datasets using the weather station identification code. We will start this problem by cleaning and converting our temperature data. Please perform the tasks below by writing your code into the codeblocks in each section.\n",
    "\n",
    "### Tips for completing this problem\n",
    "\n",
    "- Use **exactly** the same variable names as in the instructions because the tests rely on following the same formatting or variable naming as in the instructions.\n",
    "- **Please do not**:\n",
    "\n",
    "    - **Change the file names**. Do all of your editing in the provided `Exercise-5-problem-2.ipynb` file (this file).\n",
    "    - **Change the existing cell types**. You can add cells, but changing the cell types for existing cells (from code to markdown, for example) will also cause the automated grader to fail. \n",
    "\n",
    "### Scores for this problem\n",
    "\n",
    "**Your score on this problem will be based on following criteria:**\n",
    "\n",
    "- Creating a new dataframe called `selected` that contains select columns from the data file\n",
    "- Cleaning the new dataframe by removing no-data values\n",
    "- Creating a new column for temperatures converted from Fahrenheit to Celsius\n",
    "- Dividing the data into separate dataframes for the Mactan (Cebu) and Hinatuan (Surigao del Sur) stations\n",
    "- Saving the new dataframes to CSV files\n",
    "- Including comments that explain what most lines in the code do\n",
    "- Answering a couple questions at the end of the problem\n",
    "- Uploading your notebook and data files to your GitHub repository for this week's exercise"
   ]
  },
  {
   "cell_type": "markdown",
   "metadata": {
    "deletable": false,
    "editable": false,
    "nbgrader": {
     "cell_type": "markdown",
     "checksum": "765dc5cd1398d5b7ce9cf42dc2405fcb",
     "grade": false,
     "grade_id": "cell-a49b67e59c4796cb",
     "locked": true,
     "schema_version": 3,
     "solution": false,
     "task": false
    },
    "tags": []
   },
   "source": [
    "### Part 1 (0 points)\n",
    "\n",
    "The first step for this problem is to read the data file `ph_tempdata.csv` again into a variable `data` using pandas. Remember to specify the no-data values (you can copy your code from Problem 1)."
   ]
  },
  {
   "cell_type": "code",
   "execution_count": 19,
   "metadata": {
    "deletable": false,
    "nbgrader": {
     "cell_type": "code",
     "checksum": "077376761a2fce1bff0be961d70a03a6",
     "grade": false,
     "grade_id": "problem_2_ag_p1_read_csv",
     "locked": false,
     "schema_version": 3,
     "solution": true
    }
   },
   "outputs": [],
   "source": [
    "import pandas as pd\n",
    "data = pd.read_csv(r\"C:\\Users\\NIGS-15538\\Desktop\\GEOL 197 GDAM\\Ex 5\\data\\ph_tempdata.csv\", na_values=['*', '**', '***', '****', '*****', '******'])\n",
    "\n",
    "#I think it's best to use r\"<csv file>\" than a redirection string so that it can be a bit more versatile\n"
   ]
  },
  {
   "cell_type": "markdown",
   "metadata": {
    "deletable": false,
    "editable": false,
    "nbgrader": {
     "cell_type": "markdown",
     "checksum": "a52fc694c1559248e144f53dd7b0b5b9",
     "grade": false,
     "grade_id": "cell-1d46fa7bb8225c54",
     "locked": true,
     "schema_version": 3,
     "solution": false,
     "task": false
    }
   },
   "source": [
    "Check that the first rows of the DataFrame look ok: "
   ]
  },
  {
   "cell_type": "code",
   "execution_count": 20,
   "metadata": {},
   "outputs": [
    {
     "data": {
      "text/html": [
       "<div>\n",
       "<style scoped>\n",
       "    .dataframe tbody tr th:only-of-type {\n",
       "        vertical-align: middle;\n",
       "    }\n",
       "\n",
       "    .dataframe tbody tr th {\n",
       "        vertical-align: top;\n",
       "    }\n",
       "\n",
       "    .dataframe thead th {\n",
       "        text-align: right;\n",
       "    }\n",
       "</style>\n",
       "<table border=\"1\" class=\"dataframe\">\n",
       "  <thead>\n",
       "    <tr style=\"text-align: right;\">\n",
       "      <th></th>\n",
       "      <th>STATION</th>\n",
       "      <th>NAME</th>\n",
       "      <th>LATITUDE</th>\n",
       "      <th>LONGITUDE</th>\n",
       "      <th>ELEVATION</th>\n",
       "      <th>DATE</th>\n",
       "      <th>TEMP</th>\n",
       "      <th>MAX</th>\n",
       "      <th>MIN</th>\n",
       "    </tr>\n",
       "  </thead>\n",
       "  <tbody>\n",
       "    <tr>\n",
       "      <th>0</th>\n",
       "      <td>RPM00098646</td>\n",
       "      <td>MACTAN CEBU INTERNATIONAL, RP</td>\n",
       "      <td>10.308</td>\n",
       "      <td>123.979</td>\n",
       "      <td>9.4</td>\n",
       "      <td>2017-01-01</td>\n",
       "      <td>79.70</td>\n",
       "      <td>86.00</td>\n",
       "      <td>NaN</td>\n",
       "    </tr>\n",
       "    <tr>\n",
       "      <th>1</th>\n",
       "      <td>RPM00098646</td>\n",
       "      <td>MACTAN CEBU INTERNATIONAL, RP</td>\n",
       "      <td>10.308</td>\n",
       "      <td>123.979</td>\n",
       "      <td>9.4</td>\n",
       "      <td>2017-01-02</td>\n",
       "      <td>79.88</td>\n",
       "      <td>85.64</td>\n",
       "      <td>NaN</td>\n",
       "    </tr>\n",
       "    <tr>\n",
       "      <th>2</th>\n",
       "      <td>RPM00098646</td>\n",
       "      <td>MACTAN CEBU INTERNATIONAL, RP</td>\n",
       "      <td>10.308</td>\n",
       "      <td>123.979</td>\n",
       "      <td>9.4</td>\n",
       "      <td>2017-01-03</td>\n",
       "      <td>82.40</td>\n",
       "      <td>88.52</td>\n",
       "      <td>76.64</td>\n",
       "    </tr>\n",
       "    <tr>\n",
       "      <th>3</th>\n",
       "      <td>RPM00098646</td>\n",
       "      <td>MACTAN CEBU INTERNATIONAL, RP</td>\n",
       "      <td>10.308</td>\n",
       "      <td>123.979</td>\n",
       "      <td>9.4</td>\n",
       "      <td>2017-01-04</td>\n",
       "      <td>82.04</td>\n",
       "      <td>89.24</td>\n",
       "      <td>NaN</td>\n",
       "    </tr>\n",
       "    <tr>\n",
       "      <th>4</th>\n",
       "      <td>RPM00098646</td>\n",
       "      <td>MACTAN CEBU INTERNATIONAL, RP</td>\n",
       "      <td>10.308</td>\n",
       "      <td>123.979</td>\n",
       "      <td>9.4</td>\n",
       "      <td>2017-01-05</td>\n",
       "      <td>81.32</td>\n",
       "      <td>88.52</td>\n",
       "      <td>77.00</td>\n",
       "    </tr>\n",
       "  </tbody>\n",
       "</table>\n",
       "</div>"
      ],
      "text/plain": [
       "       STATION                           NAME  LATITUDE  LONGITUDE  ELEVATION  \\\n",
       "0  RPM00098646  MACTAN CEBU INTERNATIONAL, RP    10.308    123.979        9.4   \n",
       "1  RPM00098646  MACTAN CEBU INTERNATIONAL, RP    10.308    123.979        9.4   \n",
       "2  RPM00098646  MACTAN CEBU INTERNATIONAL, RP    10.308    123.979        9.4   \n",
       "3  RPM00098646  MACTAN CEBU INTERNATIONAL, RP    10.308    123.979        9.4   \n",
       "4  RPM00098646  MACTAN CEBU INTERNATIONAL, RP    10.308    123.979        9.4   \n",
       "\n",
       "         DATE   TEMP    MAX    MIN  \n",
       "0  2017-01-01  79.70  86.00    NaN  \n",
       "1  2017-01-02  79.88  85.64    NaN  \n",
       "2  2017-01-03  82.40  88.52  76.64  \n",
       "3  2017-01-04  82.04  89.24    NaN  \n",
       "4  2017-01-05  81.32  88.52  77.00  "
      ]
     },
     "execution_count": 20,
     "metadata": {},
     "output_type": "execute_result"
    }
   ],
   "source": [
    "data.head()"
   ]
  },
  {
   "cell_type": "markdown",
   "metadata": {
    "deletable": false,
    "editable": false,
    "nbgrader": {
     "cell_type": "markdown",
     "checksum": "2ef690a87ff17a6d8eecf293b4a26a4b",
     "grade": false,
     "grade_id": "cell-b95a02f5f889a56a",
     "locked": true,
     "schema_version": 3,
     "solution": false,
     "task": false
    }
   },
   "source": [
    "Check the number of rows in the DataFrame:"
   ]
  },
  {
   "cell_type": "code",
   "execution_count": 21,
   "metadata": {},
   "outputs": [
    {
     "data": {
      "text/plain": [
       "2921"
      ]
     },
     "execution_count": 21,
     "metadata": {},
     "output_type": "execute_result"
    }
   ],
   "source": [
    "len(data)"
   ]
  },
  {
   "cell_type": "markdown",
   "metadata": {
    "deletable": false,
    "editable": false,
    "nbgrader": {
     "cell_type": "markdown",
     "checksum": "9b584fbcceb8661fca02f5517babcbe3",
     "grade": false,
     "grade_id": "cell-9880f219a5fc3f36",
     "locked": true,
     "schema_version": 3,
     "solution": false,
     "task": false
    },
    "tags": []
   },
   "source": [
    "### Part 2 (1 point)\n",
    "\n",
    "Next, your task is to subset the data and remove rows with missing temperature values.\n",
    "\n",
    "- Select the columns `STATION`, `DATE`, `TEMP`, `MAX`, and `MIN` from the `data` dataframe and assign them to the variable `selected`\n",
    "- Remove all rows from `selected` that have NoData in the column `TEMP` using the `dropna()` function"
   ]
  },
  {
   "cell_type": "code",
   "execution_count": 22,
   "metadata": {
    "deletable": false,
    "nbgrader": {
     "cell_type": "code",
     "checksum": "df0349c15e29b97f6dc16a454d7baab8",
     "grade": false,
     "grade_id": "problem_2_ag_p2_dataframe_subset",
     "locked": false,
     "schema_version": 3,
     "solution": true
    }
   },
   "outputs": [
    {
     "data": {
      "text/html": [
       "<div>\n",
       "<style scoped>\n",
       "    .dataframe tbody tr th:only-of-type {\n",
       "        vertical-align: middle;\n",
       "    }\n",
       "\n",
       "    .dataframe tbody tr th {\n",
       "        vertical-align: top;\n",
       "    }\n",
       "\n",
       "    .dataframe thead th {\n",
       "        text-align: right;\n",
       "    }\n",
       "</style>\n",
       "<table border=\"1\" class=\"dataframe\">\n",
       "  <thead>\n",
       "    <tr style=\"text-align: right;\">\n",
       "      <th></th>\n",
       "      <th>STATION</th>\n",
       "      <th>NAME</th>\n",
       "      <th>LATITUDE</th>\n",
       "      <th>LONGITUDE</th>\n",
       "      <th>ELEVATION</th>\n",
       "      <th>DATE</th>\n",
       "      <th>TEMP</th>\n",
       "      <th>MAX</th>\n",
       "      <th>MIN</th>\n",
       "    </tr>\n",
       "  </thead>\n",
       "  <tbody>\n",
       "    <tr>\n",
       "      <th>0</th>\n",
       "      <td>RPM00098646</td>\n",
       "      <td>MACTAN CEBU INTERNATIONAL, RP</td>\n",
       "      <td>10.308</td>\n",
       "      <td>123.979</td>\n",
       "      <td>9.4</td>\n",
       "      <td>2017-01-01</td>\n",
       "      <td>79.70</td>\n",
       "      <td>86.00</td>\n",
       "      <td>NaN</td>\n",
       "    </tr>\n",
       "    <tr>\n",
       "      <th>1</th>\n",
       "      <td>RPM00098646</td>\n",
       "      <td>MACTAN CEBU INTERNATIONAL, RP</td>\n",
       "      <td>10.308</td>\n",
       "      <td>123.979</td>\n",
       "      <td>9.4</td>\n",
       "      <td>2017-01-02</td>\n",
       "      <td>79.88</td>\n",
       "      <td>85.64</td>\n",
       "      <td>NaN</td>\n",
       "    </tr>\n",
       "    <tr>\n",
       "      <th>2</th>\n",
       "      <td>RPM00098646</td>\n",
       "      <td>MACTAN CEBU INTERNATIONAL, RP</td>\n",
       "      <td>10.308</td>\n",
       "      <td>123.979</td>\n",
       "      <td>9.4</td>\n",
       "      <td>2017-01-03</td>\n",
       "      <td>82.40</td>\n",
       "      <td>88.52</td>\n",
       "      <td>76.64</td>\n",
       "    </tr>\n",
       "    <tr>\n",
       "      <th>3</th>\n",
       "      <td>RPM00098646</td>\n",
       "      <td>MACTAN CEBU INTERNATIONAL, RP</td>\n",
       "      <td>10.308</td>\n",
       "      <td>123.979</td>\n",
       "      <td>9.4</td>\n",
       "      <td>2017-01-04</td>\n",
       "      <td>82.04</td>\n",
       "      <td>89.24</td>\n",
       "      <td>NaN</td>\n",
       "    </tr>\n",
       "    <tr>\n",
       "      <th>4</th>\n",
       "      <td>RPM00098646</td>\n",
       "      <td>MACTAN CEBU INTERNATIONAL, RP</td>\n",
       "      <td>10.308</td>\n",
       "      <td>123.979</td>\n",
       "      <td>9.4</td>\n",
       "      <td>2017-01-05</td>\n",
       "      <td>81.32</td>\n",
       "      <td>88.52</td>\n",
       "      <td>77.00</td>\n",
       "    </tr>\n",
       "    <tr>\n",
       "      <th>...</th>\n",
       "      <td>...</td>\n",
       "      <td>...</td>\n",
       "      <td>...</td>\n",
       "      <td>...</td>\n",
       "      <td>...</td>\n",
       "      <td>...</td>\n",
       "      <td>...</td>\n",
       "      <td>...</td>\n",
       "      <td>...</td>\n",
       "    </tr>\n",
       "    <tr>\n",
       "      <th>2916</th>\n",
       "      <td>RP000098755</td>\n",
       "      <td>HINATUAN, RP</td>\n",
       "      <td>8.367</td>\n",
       "      <td>126.333</td>\n",
       "      <td>3.0</td>\n",
       "      <td>2020-12-27</td>\n",
       "      <td>82.58</td>\n",
       "      <td>90.32</td>\n",
       "      <td>74.48</td>\n",
       "    </tr>\n",
       "    <tr>\n",
       "      <th>2917</th>\n",
       "      <td>RP000098755</td>\n",
       "      <td>HINATUAN, RP</td>\n",
       "      <td>8.367</td>\n",
       "      <td>126.333</td>\n",
       "      <td>3.0</td>\n",
       "      <td>2020-12-28</td>\n",
       "      <td>80.78</td>\n",
       "      <td>85.64</td>\n",
       "      <td>NaN</td>\n",
       "    </tr>\n",
       "    <tr>\n",
       "      <th>2918</th>\n",
       "      <td>RP000098755</td>\n",
       "      <td>HINATUAN, RP</td>\n",
       "      <td>8.367</td>\n",
       "      <td>126.333</td>\n",
       "      <td>3.0</td>\n",
       "      <td>2020-12-29</td>\n",
       "      <td>81.68</td>\n",
       "      <td>89.24</td>\n",
       "      <td>76.28</td>\n",
       "    </tr>\n",
       "    <tr>\n",
       "      <th>2919</th>\n",
       "      <td>RP000098755</td>\n",
       "      <td>HINATUAN, RP</td>\n",
       "      <td>8.367</td>\n",
       "      <td>126.333</td>\n",
       "      <td>3.0</td>\n",
       "      <td>2020-12-30</td>\n",
       "      <td>80.42</td>\n",
       "      <td>86.72</td>\n",
       "      <td>76.82</td>\n",
       "    </tr>\n",
       "    <tr>\n",
       "      <th>2920</th>\n",
       "      <td>RP000098755</td>\n",
       "      <td>HINATUAN, RP</td>\n",
       "      <td>8.367</td>\n",
       "      <td>126.333</td>\n",
       "      <td>3.0</td>\n",
       "      <td>2020-12-31</td>\n",
       "      <td>80.24</td>\n",
       "      <td>86.36</td>\n",
       "      <td>NaN</td>\n",
       "    </tr>\n",
       "  </tbody>\n",
       "</table>\n",
       "<p>2921 rows × 9 columns</p>\n",
       "</div>"
      ],
      "text/plain": [
       "          STATION                           NAME  LATITUDE  LONGITUDE  \\\n",
       "0     RPM00098646  MACTAN CEBU INTERNATIONAL, RP    10.308    123.979   \n",
       "1     RPM00098646  MACTAN CEBU INTERNATIONAL, RP    10.308    123.979   \n",
       "2     RPM00098646  MACTAN CEBU INTERNATIONAL, RP    10.308    123.979   \n",
       "3     RPM00098646  MACTAN CEBU INTERNATIONAL, RP    10.308    123.979   \n",
       "4     RPM00098646  MACTAN CEBU INTERNATIONAL, RP    10.308    123.979   \n",
       "...           ...                            ...       ...        ...   \n",
       "2916  RP000098755                   HINATUAN, RP     8.367    126.333   \n",
       "2917  RP000098755                   HINATUAN, RP     8.367    126.333   \n",
       "2918  RP000098755                   HINATUAN, RP     8.367    126.333   \n",
       "2919  RP000098755                   HINATUAN, RP     8.367    126.333   \n",
       "2920  RP000098755                   HINATUAN, RP     8.367    126.333   \n",
       "\n",
       "      ELEVATION        DATE   TEMP    MAX    MIN  \n",
       "0           9.4  2017-01-01  79.70  86.00    NaN  \n",
       "1           9.4  2017-01-02  79.88  85.64    NaN  \n",
       "2           9.4  2017-01-03  82.40  88.52  76.64  \n",
       "3           9.4  2017-01-04  82.04  89.24    NaN  \n",
       "4           9.4  2017-01-05  81.32  88.52  77.00  \n",
       "...         ...         ...    ...    ...    ...  \n",
       "2916        3.0  2020-12-27  82.58  90.32  74.48  \n",
       "2917        3.0  2020-12-28  80.78  85.64    NaN  \n",
       "2918        3.0  2020-12-29  81.68  89.24  76.28  \n",
       "2919        3.0  2020-12-30  80.42  86.72  76.82  \n",
       "2920        3.0  2020-12-31  80.24  86.36    NaN  \n",
       "\n",
       "[2921 rows x 9 columns]"
      ]
     },
     "execution_count": 22,
     "metadata": {},
     "output_type": "execute_result"
    }
   ],
   "source": [
    "selected = data.dropna(subset=[\"STATION\", \"DATE\", \"TEMP\", \"MAX\", \"MIN\"]) #selected only the necessary columns using .dropna()\n",
    "data.copy() #copy of original data in case"
   ]
  },
  {
   "cell_type": "markdown",
   "metadata": {
    "deletable": false,
    "editable": false,
    "nbgrader": {
     "cell_type": "markdown",
     "checksum": "6bb3c4b113bf2726bea454d00823914c",
     "grade": false,
     "grade_id": "cell-ac41cccbd18488db",
     "locked": true,
     "schema_version": 3,
     "solution": false,
     "task": false
    }
   },
   "source": [
    "Check that you selected the correct column names:"
   ]
  },
  {
   "cell_type": "code",
   "execution_count": 23,
   "metadata": {
    "deletable": false,
    "editable": false,
    "nbgrader": {
     "cell_type": "code",
     "checksum": "1c2a497ced94c32984fcda7f4f959b97",
     "grade": true,
     "grade_id": "problem_2_ag_p2_dataframe_subset_test1",
     "locked": true,
     "points": 0.5,
     "schema_version": 3,
     "solution": false
    }
   },
   "outputs": [
    {
     "data": {
      "text/html": [
       "<div>\n",
       "<style scoped>\n",
       "    .dataframe tbody tr th:only-of-type {\n",
       "        vertical-align: middle;\n",
       "    }\n",
       "\n",
       "    .dataframe tbody tr th {\n",
       "        vertical-align: top;\n",
       "    }\n",
       "\n",
       "    .dataframe thead th {\n",
       "        text-align: right;\n",
       "    }\n",
       "</style>\n",
       "<table border=\"1\" class=\"dataframe\">\n",
       "  <thead>\n",
       "    <tr style=\"text-align: right;\">\n",
       "      <th></th>\n",
       "      <th>STATION</th>\n",
       "      <th>NAME</th>\n",
       "      <th>LATITUDE</th>\n",
       "      <th>LONGITUDE</th>\n",
       "      <th>ELEVATION</th>\n",
       "      <th>DATE</th>\n",
       "      <th>TEMP</th>\n",
       "      <th>MAX</th>\n",
       "      <th>MIN</th>\n",
       "    </tr>\n",
       "  </thead>\n",
       "  <tbody>\n",
       "    <tr>\n",
       "      <th>2</th>\n",
       "      <td>RPM00098646</td>\n",
       "      <td>MACTAN CEBU INTERNATIONAL, RP</td>\n",
       "      <td>10.308</td>\n",
       "      <td>123.979</td>\n",
       "      <td>9.4</td>\n",
       "      <td>2017-01-03</td>\n",
       "      <td>82.40</td>\n",
       "      <td>88.52</td>\n",
       "      <td>76.64</td>\n",
       "    </tr>\n",
       "    <tr>\n",
       "      <th>4</th>\n",
       "      <td>RPM00098646</td>\n",
       "      <td>MACTAN CEBU INTERNATIONAL, RP</td>\n",
       "      <td>10.308</td>\n",
       "      <td>123.979</td>\n",
       "      <td>9.4</td>\n",
       "      <td>2017-01-05</td>\n",
       "      <td>81.32</td>\n",
       "      <td>88.52</td>\n",
       "      <td>77.00</td>\n",
       "    </tr>\n",
       "    <tr>\n",
       "      <th>6</th>\n",
       "      <td>RPM00098646</td>\n",
       "      <td>MACTAN CEBU INTERNATIONAL, RP</td>\n",
       "      <td>10.308</td>\n",
       "      <td>123.979</td>\n",
       "      <td>9.4</td>\n",
       "      <td>2017-01-07</td>\n",
       "      <td>79.88</td>\n",
       "      <td>84.56</td>\n",
       "      <td>76.10</td>\n",
       "    </tr>\n",
       "    <tr>\n",
       "      <th>7</th>\n",
       "      <td>RPM00098646</td>\n",
       "      <td>MACTAN CEBU INTERNATIONAL, RP</td>\n",
       "      <td>10.308</td>\n",
       "      <td>123.979</td>\n",
       "      <td>9.4</td>\n",
       "      <td>2017-01-08</td>\n",
       "      <td>77.90</td>\n",
       "      <td>79.16</td>\n",
       "      <td>76.28</td>\n",
       "    </tr>\n",
       "    <tr>\n",
       "      <th>8</th>\n",
       "      <td>RPM00098646</td>\n",
       "      <td>MACTAN CEBU INTERNATIONAL, RP</td>\n",
       "      <td>10.308</td>\n",
       "      <td>123.979</td>\n",
       "      <td>9.4</td>\n",
       "      <td>2017-01-09</td>\n",
       "      <td>78.98</td>\n",
       "      <td>83.30</td>\n",
       "      <td>75.92</td>\n",
       "    </tr>\n",
       "  </tbody>\n",
       "</table>\n",
       "</div>"
      ],
      "text/plain": [
       "       STATION                           NAME  LATITUDE  LONGITUDE  ELEVATION  \\\n",
       "2  RPM00098646  MACTAN CEBU INTERNATIONAL, RP    10.308    123.979        9.4   \n",
       "4  RPM00098646  MACTAN CEBU INTERNATIONAL, RP    10.308    123.979        9.4   \n",
       "6  RPM00098646  MACTAN CEBU INTERNATIONAL, RP    10.308    123.979        9.4   \n",
       "7  RPM00098646  MACTAN CEBU INTERNATIONAL, RP    10.308    123.979        9.4   \n",
       "8  RPM00098646  MACTAN CEBU INTERNATIONAL, RP    10.308    123.979        9.4   \n",
       "\n",
       "         DATE   TEMP    MAX    MIN  \n",
       "2  2017-01-03  82.40  88.52  76.64  \n",
       "4  2017-01-05  81.32  88.52  77.00  \n",
       "6  2017-01-07  79.88  84.56  76.10  \n",
       "7  2017-01-08  77.90  79.16  76.28  \n",
       "8  2017-01-09  78.98  83.30  75.92  "
      ]
     },
     "execution_count": 23,
     "metadata": {},
     "output_type": "execute_result"
    }
   ],
   "source": [
    "selected.head()"
   ]
  },
  {
   "cell_type": "markdown",
   "metadata": {
    "deletable": false,
    "editable": false,
    "nbgrader": {
     "cell_type": "markdown",
     "checksum": "187bc4df32010378e35cf51a6c3017d8",
     "grade": false,
     "grade_id": "cell-7d0260b3b7512daf",
     "locked": true,
     "schema_version": 3,
     "solution": false,
     "task": false
    }
   },
   "source": [
    "Check how many rows you have after removing the no-data values:"
   ]
  },
  {
   "cell_type": "code",
   "execution_count": 24,
   "metadata": {
    "deletable": false,
    "editable": false,
    "nbgrader": {
     "cell_type": "code",
     "checksum": "2ee08ead760618beddcab94c96a56188",
     "grade": true,
     "grade_id": "problem_2_ag_p2_dataframe_subset_test2",
     "locked": true,
     "points": 0.5,
     "schema_version": 3,
     "solution": false
    }
   },
   "outputs": [
    {
     "data": {
      "text/plain": [
       "1704"
      ]
     },
     "execution_count": 24,
     "metadata": {},
     "output_type": "execute_result"
    }
   ],
   "source": [
    "len(selected)"
   ]
  },
  {
   "cell_type": "markdown",
   "metadata": {
    "deletable": false,
    "editable": false,
    "nbgrader": {
     "cell_type": "markdown",
     "checksum": "9648ccd34045c8d29a5128ac62515000",
     "grade": false,
     "grade_id": "cell-afd940c0f8c0e2c7",
     "locked": true,
     "schema_version": 3,
     "solution": false,
     "task": false
    }
   },
   "source": [
    "### Part 3 (1 point)\n",
    "\n",
    "Next, you can convert the temperature values in Fahrenheit to Celsius.\n",
    "\n",
    "- Create a new column in `selected` called `Celsius`\n",
    "- Convert the Fahrenheit temperatures from `TEMP` using the conversion formula below and store the results in the new `Celsius` column.\n",
    "\n",
    "$$\n",
    "\\Large\n",
    "\\begin{equation}\n",
    "  T_{\\mathrm{Celsius}} = (T_{\\mathrm{Fahrenheit}} - 32)~/~1.8\n",
    "\\end{equation}\n",
    "$$\n",
    "\n",
    "- Round the values in the `Celsius` column to have 0 decimals (**do not** create a new column, update the current one)\n",
    "- Convert the `Celsius` values into integers (**do not** create a new column, update the current one)"
   ]
  },
  {
   "cell_type": "code",
   "execution_count": 25,
   "metadata": {
    "deletable": false,
    "nbgrader": {
     "cell_type": "code",
     "checksum": "3b95208426bde59f422229e3e213ae2c",
     "grade": false,
     "grade_id": "problem_2_ag_p3_temperature_calculation",
     "locked": false,
     "schema_version": 3,
     "solution": true
    }
   },
   "outputs": [
    {
     "name": "stderr",
     "output_type": "stream",
     "text": [
      "C:\\Users\\NIGS-1~1\\AppData\\Local\\Temp/ipykernel_27232/1157366269.py:1: SettingWithCopyWarning: \n",
      "A value is trying to be set on a copy of a slice from a DataFrame.\n",
      "Try using .loc[row_indexer,col_indexer] = value instead\n",
      "\n",
      "See the caveats in the documentation: https://pandas.pydata.org/pandas-docs/stable/user_guide/indexing.html#returning-a-view-versus-a-copy\n",
      "  selected[\"CELSIUS\"] = (selected[\"TEMP\"] - 32)/1.8\n"
     ]
    }
   ],
   "source": [
    "selected[\"CELSIUS\"] = (selected[\"TEMP\"] - 32)/1.8 \n",
    "\n",
    "#despite the caveat, the celsius column is indeed only added to the new dataframe\n",
    "#selected is an arbitrary variable for the new, cut dataframe"
   ]
  },
  {
   "cell_type": "code",
   "execution_count": 26,
   "metadata": {
    "deletable": false,
    "editable": false,
    "nbgrader": {
     "cell_type": "code",
     "checksum": "7db43e546f42eeca940a62e39f7e07fa",
     "grade": true,
     "grade_id": "problem_2_ag_p3_temperature_calculation_test1",
     "locked": true,
     "points": 0.5,
     "schema_version": 3,
     "solution": false
    }
   },
   "outputs": [
    {
     "data": {
      "text/html": [
       "<div>\n",
       "<style scoped>\n",
       "    .dataframe tbody tr th:only-of-type {\n",
       "        vertical-align: middle;\n",
       "    }\n",
       "\n",
       "    .dataframe tbody tr th {\n",
       "        vertical-align: top;\n",
       "    }\n",
       "\n",
       "    .dataframe thead th {\n",
       "        text-align: right;\n",
       "    }\n",
       "</style>\n",
       "<table border=\"1\" class=\"dataframe\">\n",
       "  <thead>\n",
       "    <tr style=\"text-align: right;\">\n",
       "      <th></th>\n",
       "      <th>STATION</th>\n",
       "      <th>NAME</th>\n",
       "      <th>LATITUDE</th>\n",
       "      <th>LONGITUDE</th>\n",
       "      <th>ELEVATION</th>\n",
       "      <th>DATE</th>\n",
       "      <th>TEMP</th>\n",
       "      <th>MAX</th>\n",
       "      <th>MIN</th>\n",
       "      <th>CELSIUS</th>\n",
       "    </tr>\n",
       "  </thead>\n",
       "  <tbody>\n",
       "    <tr>\n",
       "      <th>2</th>\n",
       "      <td>RPM00098646</td>\n",
       "      <td>MACTAN CEBU INTERNATIONAL, RP</td>\n",
       "      <td>10.308</td>\n",
       "      <td>123.979</td>\n",
       "      <td>9.4</td>\n",
       "      <td>2017-01-03</td>\n",
       "      <td>82.40</td>\n",
       "      <td>88.52</td>\n",
       "      <td>76.64</td>\n",
       "      <td>28.0</td>\n",
       "    </tr>\n",
       "    <tr>\n",
       "      <th>4</th>\n",
       "      <td>RPM00098646</td>\n",
       "      <td>MACTAN CEBU INTERNATIONAL, RP</td>\n",
       "      <td>10.308</td>\n",
       "      <td>123.979</td>\n",
       "      <td>9.4</td>\n",
       "      <td>2017-01-05</td>\n",
       "      <td>81.32</td>\n",
       "      <td>88.52</td>\n",
       "      <td>77.00</td>\n",
       "      <td>27.4</td>\n",
       "    </tr>\n",
       "    <tr>\n",
       "      <th>6</th>\n",
       "      <td>RPM00098646</td>\n",
       "      <td>MACTAN CEBU INTERNATIONAL, RP</td>\n",
       "      <td>10.308</td>\n",
       "      <td>123.979</td>\n",
       "      <td>9.4</td>\n",
       "      <td>2017-01-07</td>\n",
       "      <td>79.88</td>\n",
       "      <td>84.56</td>\n",
       "      <td>76.10</td>\n",
       "      <td>26.6</td>\n",
       "    </tr>\n",
       "    <tr>\n",
       "      <th>7</th>\n",
       "      <td>RPM00098646</td>\n",
       "      <td>MACTAN CEBU INTERNATIONAL, RP</td>\n",
       "      <td>10.308</td>\n",
       "      <td>123.979</td>\n",
       "      <td>9.4</td>\n",
       "      <td>2017-01-08</td>\n",
       "      <td>77.90</td>\n",
       "      <td>79.16</td>\n",
       "      <td>76.28</td>\n",
       "      <td>25.5</td>\n",
       "    </tr>\n",
       "    <tr>\n",
       "      <th>8</th>\n",
       "      <td>RPM00098646</td>\n",
       "      <td>MACTAN CEBU INTERNATIONAL, RP</td>\n",
       "      <td>10.308</td>\n",
       "      <td>123.979</td>\n",
       "      <td>9.4</td>\n",
       "      <td>2017-01-09</td>\n",
       "      <td>78.98</td>\n",
       "      <td>83.30</td>\n",
       "      <td>75.92</td>\n",
       "      <td>26.1</td>\n",
       "    </tr>\n",
       "  </tbody>\n",
       "</table>\n",
       "</div>"
      ],
      "text/plain": [
       "       STATION                           NAME  LATITUDE  LONGITUDE  ELEVATION  \\\n",
       "2  RPM00098646  MACTAN CEBU INTERNATIONAL, RP    10.308    123.979        9.4   \n",
       "4  RPM00098646  MACTAN CEBU INTERNATIONAL, RP    10.308    123.979        9.4   \n",
       "6  RPM00098646  MACTAN CEBU INTERNATIONAL, RP    10.308    123.979        9.4   \n",
       "7  RPM00098646  MACTAN CEBU INTERNATIONAL, RP    10.308    123.979        9.4   \n",
       "8  RPM00098646  MACTAN CEBU INTERNATIONAL, RP    10.308    123.979        9.4   \n",
       "\n",
       "         DATE   TEMP    MAX    MIN  CELSIUS  \n",
       "2  2017-01-03  82.40  88.52  76.64     28.0  \n",
       "4  2017-01-05  81.32  88.52  77.00     27.4  \n",
       "6  2017-01-07  79.88  84.56  76.10     26.6  \n",
       "7  2017-01-08  77.90  79.16  76.28     25.5  \n",
       "8  2017-01-09  78.98  83.30  75.92     26.1  "
      ]
     },
     "execution_count": 26,
     "metadata": {},
     "output_type": "execute_result"
    }
   ],
   "source": [
    "# Check your dataframe\n",
    "selected.head()"
   ]
  },
  {
   "cell_type": "code",
   "execution_count": 27,
   "metadata": {
    "deletable": false,
    "editable": false,
    "nbgrader": {
     "cell_type": "code",
     "checksum": "b6c99a78d2dd5861897c801af1835c18",
     "grade": true,
     "grade_id": "problem_2_ag_p3_temperature_calculation_test2",
     "locked": true,
     "points": 0.5,
     "schema_version": 3,
     "solution": false
    }
   },
   "outputs": [
    {
     "name": "stdout",
     "output_type": "stream",
     "text": [
      "STATION       object\n",
      "NAME          object\n",
      "LATITUDE     float64\n",
      "LONGITUDE    float64\n",
      "ELEVATION    float64\n",
      "DATE          object\n",
      "TEMP         float64\n",
      "MAX          float64\n",
      "MIN          float64\n",
      "CELSIUS      float64\n",
      "dtype: object\n"
     ]
    }
   ],
   "source": [
    "# Check data types\n",
    "print(selected.dtypes)"
   ]
  },
  {
   "cell_type": "markdown",
   "metadata": {
    "deletable": false,
    "editable": false,
    "nbgrader": {
     "cell_type": "markdown",
     "checksum": "1c6fa9fa9fcf22956903010a613d7260",
     "grade": false,
     "grade_id": "cell-068cfca2d756fb80",
     "locked": true,
     "schema_version": 3,
     "solution": false,
     "task": false
    },
    "tags": []
   },
   "source": [
    "### Part 4 (1 point)\n",
    "\n",
    "Your next task is to divide `selected` into two separate dataframes. Please use the given variable names and write your answer to the codeblock below.\n",
    "\n",
    "- Select all rows from the `selected` DataFrame with the `STATION` code `RPM00098646` into a variable called `mactan`\n",
    "- Select all rows from the `selected` DataFrame with the `STATION` code `RP000098755` into a variable called `hinatuan`"
   ]
  },
  {
   "cell_type": "code",
   "execution_count": 28,
   "metadata": {
    "deletable": false,
    "nbgrader": {
     "cell_type": "code",
     "checksum": "f08df66c0eeeff8a6ab17771b32cb244",
     "grade": false,
     "grade_id": "problem_2_ag_p4_subsets",
     "locked": false,
     "schema_version": 3,
     "solution": true
    }
   },
   "outputs": [],
   "source": [
    "mactan = selected.loc[selected[\"STATION\"] == \"RPM00098646\"]\n",
    "hinatuan = selected.loc[selected[\"STATION\"] == \"RP000098755\"]\n",
    "\n",
    "#the .loc() function simply locates within the defined column the parameter set. In this case, it's a specific string hence also \"==\""
   ]
  },
  {
   "cell_type": "code",
   "execution_count": 29,
   "metadata": {
    "deletable": false,
    "editable": false,
    "nbgrader": {
     "cell_type": "code",
     "checksum": "9b4d88355b9c048b34ad437ef1343859",
     "grade": true,
     "grade_id": "problem_2_ag_p4_subsets_test1",
     "locked": true,
     "points": 0.5,
     "schema_version": 3,
     "solution": false
    },
    "tags": []
   },
   "outputs": [
    {
     "name": "stdout",
     "output_type": "stream",
     "text": [
      "Mactan: \n",
      "       STATION                           NAME  LATITUDE  LONGITUDE  ELEVATION  \\\n",
      "2  RPM00098646  MACTAN CEBU INTERNATIONAL, RP    10.308    123.979        9.4   \n",
      "4  RPM00098646  MACTAN CEBU INTERNATIONAL, RP    10.308    123.979        9.4   \n",
      "6  RPM00098646  MACTAN CEBU INTERNATIONAL, RP    10.308    123.979        9.4   \n",
      "7  RPM00098646  MACTAN CEBU INTERNATIONAL, RP    10.308    123.979        9.4   \n",
      "8  RPM00098646  MACTAN CEBU INTERNATIONAL, RP    10.308    123.979        9.4   \n",
      "\n",
      "         DATE   TEMP    MAX    MIN  CELSIUS  \n",
      "2  2017-01-03  82.40  88.52  76.64     28.0  \n",
      "4  2017-01-05  81.32  88.52  77.00     27.4  \n",
      "6  2017-01-07  79.88  84.56  76.10     26.6  \n",
      "7  2017-01-08  77.90  79.16  76.28     25.5  \n",
      "8  2017-01-09  78.98  83.30  75.92     26.1  \n",
      "\n"
     ]
    }
   ],
   "source": [
    "# Check the dataframe\n",
    "print(f\"Mactan: \\n{mactan.head()}\\n\")"
   ]
  },
  {
   "cell_type": "code",
   "execution_count": 30,
   "metadata": {
    "deletable": false,
    "editable": false,
    "nbgrader": {
     "cell_type": "code",
     "checksum": "5d5f879edc4414a3cbbb6bb9fba00fb9",
     "grade": true,
     "grade_id": "problem_2_ag_p4_subsets_test2",
     "locked": true,
     "points": 0.5,
     "schema_version": 3,
     "solution": false
    },
    "tags": []
   },
   "outputs": [
    {
     "name": "stdout",
     "output_type": "stream",
     "text": [
      "Hinatuan: \n",
      "          STATION          NAME  LATITUDE  LONGITUDE  ELEVATION        DATE  \\\n",
      "1461  RP000098755  HINATUAN, RP     8.367    126.333        3.0  2017-01-01   \n",
      "1462  RP000098755  HINATUAN, RP     8.367    126.333        3.0  2017-01-02   \n",
      "1464  RP000098755  HINATUAN, RP     8.367    126.333        3.0  2017-01-04   \n",
      "1468  RP000098755  HINATUAN, RP     8.367    126.333        3.0  2017-01-08   \n",
      "1469  RP000098755  HINATUAN, RP     8.367    126.333        3.0  2017-01-09   \n",
      "\n",
      "       TEMP    MAX    MIN  CELSIUS  \n",
      "1461  80.06  84.20  75.20     26.7  \n",
      "1462  80.78  85.64  75.92     27.1  \n",
      "1464  80.60  86.36  75.38     27.0  \n",
      "1468  77.18  81.86  73.40     25.1  \n",
      "1469  80.60  85.64  74.12     27.0  \n",
      "\n"
     ]
    }
   ],
   "source": [
    "# Check the dataframe\n",
    "print(f\"Hinatuan: \\n{hinatuan.head()}\\n\")"
   ]
  },
  {
   "cell_type": "markdown",
   "metadata": {
    "deletable": false,
    "editable": false,
    "nbgrader": {
     "cell_type": "markdown",
     "checksum": "a0f2a1da690aa421301c1f624a0f92c6",
     "grade": false,
     "grade_id": "cell-e7473ef24ff78a17",
     "locked": true,
     "schema_version": 3,
     "solution": false,
     "task": false
    },
    "tags": []
   },
   "source": [
    "### Part 5 (1 point)\n",
    "\n",
    "Now you can save your selections to csv files.\n",
    "\n",
    "- Save the `mactan` DataFrame into the file `Mactan_temps_2019-01_2020-12.csv` (CSV format) \n",
    "    - Separate the columns with commas (`,`)\n",
    "    - Use only 2 decimals for the floating point numbers\n",
    "- Save the `hinatuan` DataFrame into the file `Rovaniemi_temps_2019-01_2020-12.csv` (CSV format) \n",
    "    - Separate the columns with commas (`,`)\n",
    "    - Use only 2 decimals for the floating point numbers\n",
    "- Remember to commit both data files to your Exercise 5 repository"
   ]
  },
  {
   "cell_type": "code",
   "execution_count": 31,
   "metadata": {
    "deletable": false,
    "nbgrader": {
     "cell_type": "code",
     "checksum": "6ccdbd0010d5b32f3b5b8f9095f33099",
     "grade": true,
     "grade_id": "problem_2_mg_p5_to_csv",
     "locked": false,
     "points": 0,
     "schema_version": 3,
     "solution": true,
     "task": false
    }
   },
   "outputs": [],
   "source": [
    "output_mt = \"Mactan_temps_2019-01_2020-12.csv\"\n",
    "mactan.to_csv(output_mt, sep=\",\", index=False, float_format=\"%.2f\") #added index=False to remove index number column\n",
    "\n",
    "output_ht = \"Rovaniemi_temps_2019-01_2020-12.csv\"\n",
    "hinatuan.to_csv(output_ht, sep=\",\", index=False, float_format=\"%.2f\")\n",
    "\n",
    "#one should be able to see new CSV files in jupyter notebook folder with filenames defined on the code above"
   ]
  },
  {
   "cell_type": "code",
   "execution_count": 32,
   "metadata": {
    "deletable": false,
    "editable": false,
    "nbgrader": {
     "cell_type": "code",
     "checksum": "ebf2afdcc573b039bbc9df5981779962",
     "grade": true,
     "grade_id": "problem_2_ag_p5_to_csv_test",
     "locked": true,
     "points": 1,
     "schema_version": 3,
     "solution": false
    }
   },
   "outputs": [],
   "source": [
    "#Read-only cell for hidden tests :)"
   ]
  },
  {
   "cell_type": "markdown",
   "metadata": {
    "deletable": false,
    "editable": false,
    "nbgrader": {
     "cell_type": "markdown",
     "checksum": "2666861c749e238b3d0d207bb93e0329",
     "grade": false,
     "grade_id": "cell-3d8b5609d0cea2a9",
     "locked": true,
     "schema_version": 3,
     "solution": false
    }
   },
   "source": [
    "### Problem 2 summary\n",
    "\n",
    "- Was anything unclear to you in Problem 2?\n",
    "- Did you encounter any problems with decimal formatting?\n",
    "\n",
    "Also, make sure you:\n",
    "\n",
    "- Check that your code includes informative comments explaining what your code does\n",
    "- Commit and push your changes to your GitHub repository for Exercise 5 (including your 2 new data files)\n",
    "\n",
    "Please write your answers and comments below (**activate the cell by double clicking**)."
   ]
  },
  {
   "cell_type": "markdown",
   "metadata": {
    "deletable": false,
    "nbgrader": {
     "cell_type": "markdown",
     "checksum": "dcd4c45cfbeb46cb7947778d1cd06f44",
     "grade": true,
     "grade_id": "problem_2_mg_p6_problem_2_questions",
     "locked": false,
     "points": 0,
     "schema_version": 3,
     "solution": true,
     "task": false
    }
   },
   "source": [
    "- Confused where to locate the data files in own computer\n",
    "- None."
   ]
  },
  {
   "cell_type": "markdown",
   "metadata": {
    "deletable": false,
    "editable": false,
    "nbgrader": {
     "cell_type": "markdown",
     "checksum": "96a69edaaaab214acf38f25aaec0336b",
     "grade": false,
     "grade_id": "cell-2aac3add6dc14b23",
     "locked": true,
     "schema_version": 3,
     "solution": false,
     "task": false
    }
   },
   "source": [
    "### On to Problem 3\n",
    "\n",
    "Now you can continue to [Problem 3: Data analysis](Exercise-5-problem-3.ipynb)"
   ]
  }
 ],
 "metadata": {
  "anaconda-cloud": {},
  "kernelspec": {
   "display_name": "Python 3 (ipykernel)",
   "language": "python",
   "name": "python3"
  },
  "language_info": {
   "codemirror_mode": {
    "name": "ipython",
    "version": 3
   },
   "file_extension": ".py",
   "mimetype": "text/x-python",
   "name": "python",
   "nbconvert_exporter": "python",
   "pygments_lexer": "ipython3",
   "version": "3.8.10"
  }
 },
 "nbformat": 4,
 "nbformat_minor": 4
}
